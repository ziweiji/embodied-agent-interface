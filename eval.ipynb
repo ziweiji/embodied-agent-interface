{
 "cells": [
  {
   "cell_type": "code",
   "execution_count": 3,
   "id": "54bc7a18",
   "metadata": {},
   "outputs": [
    {
     "name": "stdout",
     "output_type": "stream",
     "text": [
      "Model: Meta-Llama-3-70B-Instruct, Dataset: virtualhome\n",
      "31.58\t58.69\t63.3\t80.77\t87.57\t32.26\t10.14\n",
      "Model: Meta-Llama-3-70B-Instruct, Dataset: behavior\n",
      "74.07\t28.0\t35.0\t23.0\t29.0\t53.7\t68.0\n",
      "Model: Qwen2.5-VL-32B-Instruct, Dataset: virtualhome\n",
      "25.64\t52.13\t57.7\t73.96\t79.59\t8.31\t31.53\n",
      "Model: Qwen2.5-VL-32B-Instruct, Dataset: behavior\n",
      "72.43\t30.0\t35.0\t28.0\t34.0\t46.87\t22.0\n"
     ]
    }
   ],
   "source": [
    "import json\n",
    "import os\n",
    "\n",
    "\n",
    "for model_name in [\"Meta-Llama-3-70B-Instruct\", 'Qwen2.5-VL-32B-Instruct']:\n",
    "    for dataset in ['virtualhome', 'behavior']:\n",
    "        print(f\"Model: {model_name}, Dataset: {dataset}\")\n",
    "        all_outputs = []\n",
    "        for type in ['goal_interpretation', 'action_sequencing', 'subgoal_decomposition', 'transition_modeling']:\n",
    "            if dataset  == 'virtualhome' or type == 'transition_modeling':\n",
    "                path = f'output/{dataset}/evaluate_results/{type}/{model_name}/summary.json'\n",
    "            else:\n",
    "                path = f\"output/{dataset}/evaluate_results/{type}/summary/{model_name}_performance_scores.json\"\n",
    "                path2 = f'output/{dataset}/evaluate_results/{type}/summary/{model_name}_outputs.json'\n",
    "                path3 = f'output/{dataset}/evaluate_results/{type}/summary/{model_name}.json'\n",
    "                \n",
    "            if os.path.exists(path) or os.path.exists(path2) or os.path.exists(path3):\n",
    "                if os.path.exists(path):\n",
    "                    path = path\n",
    "                elif os.path.exists(path2):\n",
    "                    path = path2\n",
    "                else:\n",
    "                    path = path3\n",
    "                with open(path) as f:\n",
    "                    data = json.load(f)\n",
    "                if type in ['action_sequencing', 'subgoal_decomposition']:\n",
    "                    task_success_rate = data['goal_evaluation']['task_success_rate']\n",
    "                    if type == 'subgoal_decomposition' or dataset == 'behavior':\n",
    "                        task_success_rate *= 100\n",
    "                    task_success_rate = round(task_success_rate, 2)\n",
    "                    execution_success_rate = data['trajectory_evaluation']['execution_success_rate']\n",
    "                    if type == 'subgoal_decomposition' or dataset == 'behavior':\n",
    "                        execution_success_rate *= 100\n",
    "                    execution_success_rate = round(execution_success_rate, 2)\n",
    "                    all_outputs.append(f\"{task_success_rate}\\t{execution_success_rate}\")\n",
    "                elif type == 'transition_modeling':\n",
    "                    f1 = data[\"overall\"][\"f1\"]\n",
    "                    f1 = round(f1, 2)\n",
    "                    planner_success_rate = data[\"overall\"][\"planner_success_rate\"]\n",
    "                    planner_success_rate = round(planner_success_rate, 2)\n",
    "                    all_outputs.append(f\"{f1}\\t{planner_success_rate}\")\n",
    "                elif type == 'goal_interpretation':\n",
    "                    if \"all_f1\" in data:\n",
    "                        all_f1 = data['all_f1']\n",
    "                        all_f1 = round(all_f1, 2)\n",
    "                    else:\n",
    "                        all_f1 = data['overall']['overall_confusion_metrics']['f1_score']*100\n",
    "                        all_f1 = round(all_f1, 2)\n",
    "                    all_outputs.append(all_f1)\n",
    "            else:\n",
    "                if type == 'goal_interpretation':\n",
    "                    all_outputs.append(-1)\n",
    "                else:\n",
    "                    all_outputs.append('-1\\t-1')\n",
    "\n",
    "        print('\\t'.join([str(i) for i in all_outputs]))"
   ]
  }
 ],
 "metadata": {
  "kernelspec": {
   "display_name": "vlwm",
   "language": "python",
   "name": "python3"
  },
  "language_info": {
   "codemirror_mode": {
    "name": "ipython",
    "version": 3
   },
   "file_extension": ".py",
   "mimetype": "text/x-python",
   "name": "python",
   "nbconvert_exporter": "python",
   "pygments_lexer": "ipython3",
   "version": "3.9.21"
  }
 },
 "nbformat": 4,
 "nbformat_minor": 5
}
